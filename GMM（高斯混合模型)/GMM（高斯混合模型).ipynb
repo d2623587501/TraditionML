{
 "cells": [
  {
   "cell_type": "markdown",
   "metadata": {
    "collapsed": false
   },
   "source": [
    "# 声明：内容为学习笔记，仅供学习交流"
   ]
  },
  {
   "cell_type": "markdown",
   "metadata": {
    "collapsed": false
   },
   "source": [
    "## 模拟两个正态分布的参数"
   ]
  },
  {
   "cell_type": "code",
   "execution_count": 1,
   "metadata": {
    "collapsed": false
   },
   "outputs": [],
   "source": [
    "from numpy import *\n",
    "import numpy as np\n",
    "import random\n",
    "import copy\n",
    "import matplotlib.pyplot as plt\n",
    "import math\n",
    "import matplotlib.mlab as mlab"
   ]
  },
  {
   "cell_type": "markdown",
   "metadata": {
    "collapsed": false
   },
   "source": [
    "均值不同的样本"
   ]
  },
  {
   "cell_type": "code",
   "execution_count": 2,
   "metadata": {
    "collapsed": false
   },
   "outputs": [],
   "source": [
    "EPS = 0.0001\n",
    "def generate_data():\t\n",
    "\tmu1 = 2\n",
    "\tmu2 = 6\n",
    "\tsigma1 = 0.1\n",
    "\tsigma2 = 0.5\n",
    "\talpha1 = 0.4\n",
    "\talpha2 = 0.6\n",
    "\tN = 5000\n",
    "\tN1 = int(alpha1 * N)\n",
    "\tX = mat(zeros((N,1)))\n",
    "\tfor i in range(N1):\n",
    "\t\tu1 = random.uniform(-1,1)\n",
    "\t\tX[i] = u1 * sigma1 + mu1\n",
    "\tfor i in range(N-N1):\n",
    "\t\tu1 = random.uniform(-1,1)\n",
    "\t\tX[i+N1] = u1 * sigma2 + mu2\n",
    "\treturn X"
   ]
  },
  {
   "cell_type": "code",
   "execution_count": 3,
   "metadata": {
    "collapsed": false
   },
   "outputs": [],
   "source": [
    "def GMM(X):\n",
    "\tk = 2\n",
    "\tN = len(X)\n",
    "\tmu = np.random.rand(k,1)\n",
    "\tprint (str('init mu='))\n",
    "\tprint (mu)\n",
    "\tPosterior = mat(zeros((N,k)))\t\n",
    "\tsigma = np.random.rand(k,1)\n",
    "\tprint (str('init sigma='))\n",
    "\tprint (sigma)\n",
    "\talpha = np.random.rand(k,1)\n",
    "\tdominator = 0\n",
    "\tnumerator = 0\n",
    "\tprint (str('init alpha='))\n",
    "\tprint (alpha)\n",
    "\t#先求后验概率\n",
    "\t#print (sigma)\n",
    "\tfor it in range(1000):\n",
    "\t\tfor i in range(N):\n",
    "\t\t\tdominator = 0\n",
    "\t\t\tfor j in range(k):\n",
    "\t\t\t\tdominator = dominator + np.exp(-1.0/(2.0*sigma[j]) * (X[i] - mu[j])**2)\n",
    "\t\t\t\t#print -1.0/(2.0*sigma[j]),(X[i] - mu[j])**2,-1.0/(2.0*sigma[j]) * (X[i] - mu[j])**2,np.exp(-1.0/(2.0*sigma[j]) * (X[i] - mu[j])**2)\n",
    "\t\t\t\t#return\n",
    "\t\t\tfor j in range(k):\n",
    "\t\t\t\tnumerator = np.exp(-1.0/(2.0*sigma[j]) * (X[i] - mu[j])**2)\n",
    "\t\t\t\tPosterior[i,j] = numerator/dominator\t\t\t\n",
    "\t\toldmu = copy.deepcopy(mu)\n",
    "\t\toldalpha = copy.deepcopy(alpha)\n",
    "\t\toldsigma = copy.deepcopy(sigma)\n",
    "\t\t#最大化\t\n",
    "\t\tfor j in range(k):\n",
    "\t\t\tnumerator = 0\n",
    "\t\t\tdominator = 0\n",
    "\t\t\tfor i in range(N):\n",
    "\t\t\t\tnumerator = numerator + Posterior[i,j] * X[i]\n",
    "\t\t\t\tdominator = dominator + Posterior[i,j]\n",
    "\t\t\tmu[j] = numerator/dominator\n",
    "\t\t\talpha[j] = dominator/N\n",
    "\t\t\ttmp = 0\n",
    "\t\t\tfor i in range(N):\n",
    "\t\t\t\ttmp = tmp + Posterior[i,j] * (X[i] - mu[j])**2\n",
    "\t\t\t\t#print tmp,Posterior[i,j],(X[i] - mu[j])**2 \n",
    "\t\t\tsigma[j] = tmp/dominator\n",
    "\t\t\t#print (tmp)\n",
    "\t\t\t#print (dominator)\n",
    "\t\t\t#print (sigma[j])\n",
    "\t\tif ((abs(mu - oldmu)).sum() < EPS) and \\\n",
    "\t\t\t((abs(alpha - oldalpha)).sum() < EPS) and \\\n",
    "\t\t\t((abs(sigma - oldsigma)).sum() < EPS):\n",
    "\t\t\t\tprint (str('final mu=')) \n",
    "\t\t\t\tprint (str(mu))\n",
    "\t\t\t\tprint (str('final sigma='))\n",
    "\t\t\t\tprint (str(sigma))\n",
    "\t\t\t\tprint (str('final alpha='))\n",
    "\t\t\t\tprint (str(alpha))\n",
    "\t\t\t\tprint (it)\n",
    "\t\t\t\tbreak"
   ]
  },
  {
   "cell_type": "markdown",
   "metadata": {
    "collapsed": false
   },
   "source": [
    "## Main启动"
   ]
  },
  {
   "cell_type": "code",
   "execution_count": 4,
   "metadata": {
    "collapsed": false
   },
   "outputs": [
    {
     "name": "stderr",
     "output_type": "stream",
     "text": [
      "/opt/conda/envs/python35-paddle120-env/lib/python3.7/site-packages/matplotlib/axes/_axes.py:6571: UserWarning: The 'normed' kwarg is deprecated, and has been replaced by the 'density' kwarg.\n",
      "  warnings.warn(\"The 'normed' kwarg is deprecated, and has been \"\n"
     ]
    },
    {
     "data": {
      "image/png": "[encoded data removed]",
      "text/plain": [
       "<Figure size 432x288 with 1 Axes>"
      ]
     },
     "metadata": {},
     "output_type": "display_data"
    },
    {
     "name": "stdout",
     "output_type": "stream",
     "text": [
      "init mu=\n",
      "[[0.58109566]\n",
      " [0.24332661]]\n",
      "init sigma=\n",
      "[[0.01770115]\n",
      " [0.7672023 ]]\n",
      "init alpha=\n",
      "[[0.10099793]\n",
      " [0.28133133]]\n",
      "final mu=\n",
      "[[1.99878587]\n",
      " [6.00157428]]\n",
      "final sigma=\n",
      "[[0.0032882 ]\n",
      " [0.08398233]]\n",
      "final alpha=\n",
      "[[0.4]\n",
      " [0.6]]\n",
      "21\n"
     ]
    }
   ],
   "source": [
    "X = generate_data()\n",
    "plt.hist(X, 30, normed=True)\n",
    "plt.show()\n",
    "GMM(X)\t"
   ]
  },
  {
   "cell_type": "code",
   "execution_count": null,
   "metadata": {
    "collapsed": false
   },
   "outputs": [],
   "source": []
  }
 ],
 "metadata": {
  "kernelspec": {
   "display_name": "PaddlePaddle 2.0.0b0 (Python 3.5)",
   "language": "python",
   "name": "py35-paddle1.2.0"
  },
  "language_info": {
   "codemirror_mode": {
    "name": "ipython",
    "version": 3
   },
   "file_extension": ".py",
   "mimetype": "text/x-python",
   "name": "python",
   "nbconvert_exporter": "python",
   "pygments_lexer": "ipython3",
   "version": "3.7.4"
  }
 },
 "nbformat": 4,
 "nbformat_minor": 1
}
