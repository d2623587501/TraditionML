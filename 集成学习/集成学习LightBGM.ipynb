{
 "cells": [
  {
   "cell_type": "markdown",
   "metadata": {
    "collapsed": false
   },
   "source": [
    "# 声明：内容为学习笔记，仅供学习交流"
   ]
  },
  {
   "cell_type": "markdown",
   "metadata": {
    "collapsed": false
   },
   "source": [
    "# LightBGM应用"
   ]
  },
  {
   "cell_type": "code",
   "execution_count": 1,
   "metadata": {
    "collapsed": false
   },
   "outputs": [
    {
     "data": {
      "text/html": [
       "<style type='text/css'>\n",
       ".datatable table.frame { margin-bottom: 0; }\n",
       ".datatable table.frame thead { border-bottom: none; }\n",
       ".datatable table.frame tr.coltypes td {  color: #FFFFFF;  line-height: 6px;  padding: 0 0.5em;}\n",
       ".datatable .bool    { background: #DDDD99; }\n",
       ".datatable .object  { background: #565656; }\n",
       ".datatable .int     { background: #5D9E5D; }\n",
       ".datatable .float   { background: #4040CC; }\n",
       ".datatable .str     { background: #CC4040; }\n",
       ".datatable .row_index {  background: var(--jp-border-color3);  border-right: 1px solid var(--jp-border-color0);  color: var(--jp-ui-font-color3);  font-size: 9px;}\n",
       ".datatable .frame tr.coltypes .row_index {  background: var(--jp-border-color0);}\n",
       ".datatable th:nth-child(2) { padding-left: 12px; }\n",
       ".datatable .hellipsis {  color: var(--jp-cell-editor-border-color);}\n",
       ".datatable .vellipsis {  background: var(--jp-layout-color0);  color: var(--jp-cell-editor-border-color);}\n",
       ".datatable .na {  color: var(--jp-cell-editor-border-color);  font-size: 80%;}\n",
       ".datatable .footer { font-size: 9px; }\n",
       ".datatable .frame_dimensions {  background: var(--jp-border-color3);  border-top: 1px solid var(--jp-border-color0);  color: var(--jp-ui-font-color3);  display: inline-block;  opacity: 0.6;  padding: 1px 10px 1px 5px;}\n",
       "</style>\n"
      ],
      "text/plain": [
       "<IPython.core.display.HTML object>"
      ]
     },
     "metadata": {},
     "output_type": "display_data"
    }
   ],
   "source": [
    "import datetime\n",
    "import numpy as np\n",
    "import pandas as pd\n",
    "import lightgbm as lgb\n",
    "from sklearn.datasets import load_breast_cancer\n",
    "from sklearn.model_selection import train_test_split\n",
    "from sklearn.metrics import accuracy_score\n",
    "import matplotlib.pyplot as plt\n",
    "%matplotlib inline"
   ]
  },
  {
   "cell_type": "code",
   "execution_count": 2,
   "metadata": {
    "collapsed": false
   },
   "outputs": [],
   "source": [
    "# 加载数据集\n",
    "breast = load_breast_cancer()\n",
    "# 获取特征值和目标指\n",
    "X,y = breast.data,breast.target\n",
    "# 获取特征名称\n",
    "feature_name = breast.feature_names"
   ]
  },
  {
   "cell_type": "code",
   "execution_count": 3,
   "metadata": {
    "collapsed": false
   },
   "outputs": [],
   "source": [
    "# 数据集划分\n",
    "X_train, X_test, y_train, y_test = train_test_split(X, y, test_size=0.2, random_state=0)"
   ]
  },
  {
   "cell_type": "code",
   "execution_count": 4,
   "metadata": {
    "collapsed": false
   },
   "outputs": [],
   "source": [
    "# 数据格式转换\n",
    "lgb_train = lgb.Dataset(X_train, y_train)\n",
    "lgb_eval = lgb.Dataset(X_test, y_test, reference=lgb_train)"
   ]
  },
  {
   "cell_type": "code",
   "execution_count": 5,
   "metadata": {
    "collapsed": false
   },
   "outputs": [],
   "source": [
    "# 参数设置\n",
    "boost_round = 50 # 迭代次数              \n",
    "early_stop_rounds = 10 # 验证数据若在early_stop_rounds轮中未提高，则提前停止\n",
    "\n",
    "params = {\n",
    "    'boosting_type': 'gbdt',  # 设置提升类型\n",
    "    'objective': 'regression',  # 目标函数\n",
    "    'metric': {'l2', 'auc'},  # 评估函数\n",
    "    'num_leaves': 31,  # 叶子节点数\n",
    "    'learning_rate': 0.05,  # 学习速率\n",
    "    'feature_fraction': 0.9,  # 建树的特征选择比例\n",
    "    'bagging_fraction': 0.8,  # 建树的样本采样比例\n",
    "    'bagging_freq': 5,  # k 意味着每 k 次迭代执行bagging\n",
    "    'verbose': 1  # <0 显示致命的, =0 显示错误 (警告), >0 显示信息\n",
    "}"
   ]
  },
  {
   "cell_type": "code",
   "execution_count": 6,
   "metadata": {
    "collapsed": false
   },
   "outputs": [
    {
     "name": "stdout",
     "output_type": "stream",
     "text": [
      "[LightGBM] [Warning] Auto-choosing row-wise multi-threading, the overhead of testing was 0.092235 seconds.\n",
      "You can set `force_row_wise=true` to remove the overhead.\n",
      "And if memory is not enough, you can set `force_col_wise=true`.\n",
      "[LightGBM] [Info] Total Bins 4548\n",
      "[LightGBM] [Info] Number of data points in the train set: 455, number of used features: 30\n",
      "[LightGBM] [Info] Start training from score 0.637363\n",
      "[LightGBM] [Warning] No further splits with positive gain, best gain: -inf\n",
      "[1]\ttrain's l2: 0.21292\ttrain's auc: 0.984943\tvalidate's l2: 0.225636\tvalidate's auc: 0.98825\n",
      "Training until validation scores don't improve for 10 rounds\n",
      "[LightGBM] [Warning] No further splits with positive gain, best gain: -inf\n",
      "[2]\ttrain's l2: 0.196278\ttrain's auc: 0.990805\tvalidate's l2: 0.208124\tvalidate's auc: 0.992855\n",
      "[LightGBM] [Warning] No further splits with positive gain, best gain: -inf\n",
      "[3]\ttrain's l2: 0.181505\ttrain's auc: 0.990324\tvalidate's l2: 0.192562\tvalidate's auc: 0.992379\n",
      "[LightGBM] [Warning] No further splits with positive gain, best gain: -inf\n",
      "[4]\ttrain's l2: 0.168012\ttrain's auc: 0.990439\tvalidate's l2: 0.178022\tvalidate's auc: 0.993966\n",
      "[LightGBM] [Warning] No further splits with positive gain, best gain: -inf\n",
      "[5]\ttrain's l2: 0.15582\ttrain's auc: 0.990376\tvalidate's l2: 0.164942\tvalidate's auc: 0.993014\n",
      "[LightGBM] [Warning] No further splits with positive gain, best gain: -inf\n",
      "[6]\ttrain's l2: 0.144636\ttrain's auc: 0.990752\tvalidate's l2: 0.152745\tvalidate's auc: 0.993649\n",
      "[LightGBM] [Warning] No further splits with positive gain, best gain: -inf\n",
      "[7]\ttrain's l2: 0.134404\ttrain's auc: 0.991641\tvalidate's l2: 0.142248\tvalidate's auc: 0.993331\n",
      "[LightGBM] [Warning] No further splits with positive gain, best gain: -inf\n",
      "[8]\ttrain's l2: 0.124721\ttrain's auc: 0.992571\tvalidate's l2: 0.132609\tvalidate's auc: 0.992379\n",
      "[LightGBM] [Warning] No further splits with positive gain, best gain: -inf\n",
      "[9]\ttrain's l2: 0.116309\ttrain's auc: 0.992884\tvalidate's l2: 0.123573\tvalidate's auc: 0.991743\n",
      "[LightGBM] [Warning] No further splits with positive gain, best gain: -inf\n",
      "[10]\ttrain's l2: 0.108757\ttrain's auc: 0.992989\tvalidate's l2: 0.115307\tvalidate's auc: 0.992696\n",
      "[LightGBM] [Warning] No further splits with positive gain, best gain: -inf\n",
      "[11]\ttrain's l2: 0.101871\ttrain's auc: 0.993156\tvalidate's l2: 0.108458\tvalidate's auc: 0.991743\n",
      "[LightGBM] [Warning] No further splits with positive gain, best gain: -inf\n",
      "[12]\ttrain's l2: 0.0954168\ttrain's auc: 0.99348\tvalidate's l2: 0.101479\tvalidate's auc: 0.99222\n",
      "[LightGBM] [Warning] No further splits with positive gain, best gain: -inf\n",
      "[13]\ttrain's l2: 0.0897573\ttrain's auc: 0.993396\tvalidate's l2: 0.0956762\tvalidate's auc: 0.99222\n",
      "[LightGBM] [Warning] No further splits with positive gain, best gain: -inf\n",
      "[14]\ttrain's l2: 0.0846034\ttrain's auc: 0.993605\tvalidate's l2: 0.0898012\tvalidate's auc: 0.992855\n",
      "Early stopping, best iteration is:\n",
      "[4]\ttrain's l2: 0.168012\ttrain's auc: 0.990439\tvalidate's l2: 0.178022\tvalidate's auc: 0.993966\n"
     ]
    }
   ],
   "source": [
    "# 模型训练:加入提前停止的功能\n",
    "results = {}\n",
    "gbm = lgb.train(params,\n",
    "                lgb_train,\n",
    "                num_boost_round= boost_round,\n",
    "                valid_sets=(lgb_eval, lgb_train),\n",
    "                valid_names=('validate','train'),\n",
    "                early_stopping_rounds = early_stop_rounds,\n",
    "                evals_result= results)"
   ]
  },
  {
   "cell_type": "code",
   "execution_count": 7,
   "metadata": {
    "collapsed": false
   },
   "outputs": [
    {
     "data": {
      "text/plain": [
       "array([0.54984511, 0.68507681, 0.70000118, 0.68750003, 0.69502618,\n",
       "       0.70463823, 0.7000488 , 0.69978645, 0.69007681, 0.70470519,\n",
       "       0.64551823, 0.69250003, 0.70485027, 0.61261276, 0.63319082,\n",
       "       0.53038232, 0.68207978, 0.5187003 , 0.51890028, 0.51888203,\n",
       "       0.51837969, 0.51864926, 0.68207978, 0.69975614, 0.53038232,\n",
       "       0.70478228, 0.70468615, 0.56786527, 0.70478228, 0.51914877,\n",
       "       0.70000118, 0.53038232, 0.69613365, 0.57771345, 0.70468615,\n",
       "       0.54997235, 0.70485945, 0.57745777, 0.69250003, 0.51832519,\n",
       "       0.61261276, 0.70464844, 0.61261276, 0.70468615, 0.6715068 ,\n",
       "       0.51895598, 0.70468615, 0.6901846 , 0.69976298, 0.51914491,\n",
       "       0.51890028, 0.53639985, 0.55928785, 0.70462336, 0.70480834,\n",
       "       0.7046495 , 0.6901846 , 0.69007681, 0.68507681, 0.51877305,\n",
       "       0.56786527, 0.5210285 , 0.70464844, 0.70462336, 0.51890028,\n",
       "       0.69505181, 0.51902873, 0.51914491, 0.52117121, 0.69505181,\n",
       "       0.58880187, 0.51901768, 0.70463823, 0.67131372, 0.53038232,\n",
       "       0.69008931, 0.70474594, 0.68207978, 0.70472365, 0.7047653 ,\n",
       "       0.53916204, 0.51915596, 0.51914491, 0.69502618, 0.53038232,\n",
       "       0.70511838, 0.70489227, 0.70462604, 0.5212341 , 0.51914877,\n",
       "       0.70464844, 0.61261276, 0.61261276, 0.51915596, 0.69505181,\n",
       "       0.69986056, 0.51902873, 0.61632298, 0.70473798, 0.70476145,\n",
       "       0.70469606, 0.69979895, 0.69250003, 0.69537154, 0.51883594,\n",
       "       0.69160359, 0.51901768, 0.69160359, 0.61261276, 0.57707546,\n",
       "       0.70467098, 0.51826192, 0.51901768, 0.58983385])"
      ]
     },
     "execution_count": 7,
     "metadata": {},
     "output_type": "execute_result"
    }
   ],
   "source": [
    "# 模型预测\n",
    "y_pred = gbm.predict(X_test, num_iteration=gbm.best_iteration)\n",
    "y_pred"
   ]
  },
  {
   "cell_type": "code",
   "execution_count": 8,
   "metadata": {
    "collapsed": false
   },
   "outputs": [
    {
     "name": "stderr",
     "output_type": "stream",
     "text": [
      "/opt/conda/envs/python35-paddle120-env/lib/python3.7/site-packages/ipykernel_launcher.py:2: UserWarning: More than one metric available, picking one to plot.\n",
      "  \n"
     ]
    },
    {
     "data": {
      "image/png": "[encoded data removed]",
      "text/plain": [
       "<Figure size 432x288 with 1 Axes>"
      ]
     },
     "metadata": {},
     "output_type": "display_data"
    }
   ],
   "source": [
    "# 模型评估\n",
    "lgb.plot_metric(results)\n",
    "plt.show()"
   ]
  },
  {
   "cell_type": "code",
   "execution_count": 9,
   "metadata": {
    "collapsed": false
   },
   "outputs": [
    {
     "data": {
      "image/png": "[encoded data removed]",
      "text/plain": [
       "<Figure size 432x288 with 1 Axes>"
      ]
     },
     "metadata": {},
     "output_type": "display_data"
    }
   ],
   "source": [
    "# 绘制重要的特征\n",
    "lgb.plot_importance(gbm,importance_type = \"split\")\n",
    "plt.show()"
   ]
  },
  {
   "cell_type": "code",
   "execution_count": null,
   "metadata": {
    "collapsed": false
   },
   "outputs": [],
   "source": []
  }
 ],
 "metadata": {
  "kernelspec": {
   "display_name": "PaddlePaddle 2.0.0b0 (Python 3.5)",
   "language": "python",
   "name": "py35-paddle1.2.0"
  },
  "language_info": {
   "codemirror_mode": {
    "name": "ipython",
    "version": 3
   },
   "file_extension": ".py",
   "mimetype": "text/x-python",
   "name": "python",
   "nbconvert_exporter": "python",
   "pygments_lexer": "ipython3",
   "version": "3.7.4"
  }
 },
 "nbformat": 4,
 "nbformat_minor": 1
}
