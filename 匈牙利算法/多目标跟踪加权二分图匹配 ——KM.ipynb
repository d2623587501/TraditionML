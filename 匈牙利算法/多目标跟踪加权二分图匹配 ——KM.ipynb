{
 "cells": [
  {
   "cell_type": "markdown",
   "metadata": {
    "collapsed": false
   },
   "source": [
    "## 多目标跟踪加权二分图匹配 ——KM(这里继续以找对象为例）\n",
    "\n",
    "> 前馈知识：[多目标跟踪之二分图无权匹配——匈牙利算法](https://aistudio.baidu.com/aistudio/projectdetail/2037584)\n",
    "\n",
    "### 1 算法流程\n",
    "\n",
    "- 男女关系矩阵如下（正数表示权重，负数表示无关系）\n",
    "\n",
    "|        |   女0  |     女1 |     女2 |     女3 |\n",
    "| -------- | -------- | -------- | -------- |  -------- |\n",
    "| 男0 | 8 | 6 | -1 | -1 |\n",
    "| 男1 | -1 | 3 | 9 | -1 |\n",
    "| 男2 | 9 | 8 | -1 | -1 |\n",
    "| 男3 | -1 | -1 | 2 | -1 |\n",
    "- 关系图如下，红线表示有关系（未匹配），蓝线表示已匹配，数值表示权重\n",
    "\n",
    "![](https://ai-studio-static-online.cdn.bcebos.com/bfab51525e8c4cc79d83879a7a1fc22f7c37e0d6cd374755b88838c0a1280af7)\n",
    "\n",
    "\n",
    "- 第一步：首先对每个顶点赋值，称为顶标，将左边的顶点赋值为与其相连的边的最大权重，右边的顶点赋值为0。\n",
    "\n",
    "![](https://ai-studio-static-online.cdn.bcebos.com/79c451e5f02042f08be452f515328471dfdd8102f2fe46638e283b95148fca06)\n",
    "\n",
    "- 第二步，开始匹配，匹配的原则是只和权重与左边分数（顶标）相同的边进行匹配，若找不到边匹配，对此条路径的所有左边顶点的顶标减d，所有右边顶点的顶标加d。参数d取1为例。\n",
    "\n",
    "对于男0，与顶标分值相同的边先标蓝。\n",
    "\n",
    "![](https://ai-studio-static-online.cdn.bcebos.com/edfd45aaa95f4952a3c1c0134278315b050369433a4c4e3da0b1f9bf240cf092)\n",
    "\n",
    "然后是男1，与顶标分值相同的边标蓝。\n",
    "\n",
    "![](https://ai-studio-static-online.cdn.bcebos.com/41927924278d409491fac06d6c63fc7e00716707f2ea4c79b45e7fb8d395cd2e)\n",
    "\n",
    "- 第三步，然后是男2，发现与女0已经与男0配对。首先想到让男3更换匹配对象，然而根据匹配原则，只有权值大于等于9+0=9（左顶标加右顶标）的边能满足要求。于是男2无法换边。那男0能不能换边呢？对于男0来说，只有权值大于等于9+0=9的边能满足要求，无法换边。此时根据KM算法，应对所有冲突的边的顶点做加减操作，令左边顶点值减1，右边顶点值加1。结果如下图所示。\n",
    "\n",
    "![](https://ai-studio-static-online.cdn.bcebos.com/5ce0c9d1dcd04275ad2bf923abfa5aa437aa1f7e27dd4a729fa126273b23b7a9)\n",
    "\n",
    "- 第四步，再进行匹配操作，发现男2多了一条可匹配的边，因为此时男2对女1的匹配要求只需权重大于等于8+0即可，所以男2与女1匹配！\n",
    "\n",
    "![](https://ai-studio-static-online.cdn.bcebos.com/bd9736b19b46400589f903bb45f64b9fa8a600fa3a964f34991bb21fddb651dd)\n",
    "\n",
    "- 最后，最后进行男3的匹配，由于男3唯一的匹配对象女2已被男1匹配，发生冲突。进行一轮加减d操作，再匹配，男3还是匹配失败。两轮以后男3期望值降为0，放弃匹配男3。"
   ]
  },
  {
   "cell_type": "markdown",
   "metadata": {
    "collapsed": false
   },
   "source": [
    "### 2 代码实现"
   ]
  },
  {
   "cell_type": "markdown",
   "metadata": {
    "collapsed": false
   },
   "source": [
    "#### 2.1 定义KM方法类"
   ]
  },
  {
   "cell_type": "code",
   "execution_count": 1,
   "metadata": {
    "collapsed": false
   },
   "outputs": [],
   "source": [
    "import numpy as np\r\n",
    "\r\n",
    "class KM_Algorithm_4:\r\n",
    "\r\n",
    "    def __init__(self, Bipartite_Graph):\r\n",
    "\r\n",
    "        self.Bipartite_Graph = Bipartite_Graph\r\n",
    "\r\n",
    "        # 左右结点数量记录\r\n",
    "        self.left = self.Bipartite_Graph.shape[0]  # 以左边为主\r\n",
    "        # print(self.Bipartite_Graph)\r\n",
    "        # print(self.Bipartite_Graph[0])\r\n",
    "        self.right_true = self.Bipartite_Graph.shape[1]\r\n",
    "        self.right = self.Bipartite_Graph.shape[1] + self.left\r\n",
    "\r\n",
    "        self.reshape_graph()\r\n",
    "\r\n",
    "        # 初始化顶标\r\n",
    "        self.label_left = np.max(self.Bipartite_Graph, axis=1)  # 设置左边顶标为权重最大值（每行的最大值）\r\n",
    "\r\n",
    "        self.label_right = np.zeros(self.right)  # 右边集合的顶标设置为0\r\n",
    "\r\n",
    "        # 初始化辅助变量——是否已匹配\r\n",
    "        self.visit_left = np.zeros(self.left, dtype=bool)\r\n",
    "        self.visit_right = np.zeros(self.right, dtype=bool)\r\n",
    "\r\n",
    "        # 初始化右边的匹配结果.如果已匹配就会对应匹配结果\r\n",
    "        self.match_right = np.empty(self.right) * np.nan\r\n",
    "\r\n",
    "        # 用inc记录需要减去的权值d，不断取最小值故初始化为较大值。权值都为负数，应该不用很大也行\r\n",
    "        self.inc = 1000*1000*1000\r\n",
    "\r\n",
    "        self.fail_boy = list()  # 每次匹配重新创建一个二分图匹配对象，所以这个也不用手动重置了\r\n",
    "\r\n",
    "    def reshape_graph(self):\r\n",
    "        new = np.ones((self.left, self.left)) * 0\r\n",
    "        self.Bipartite_Graph = np.column_stack((self.Bipartite_Graph, new))\r\n",
    "        # print(self.Bipartite_Graph)\r\n",
    "\r\n",
    "    def match(self, boy):\r\n",
    "        # print(\"---------------我是boy%d----------------------\" % boy)\r\n",
    "        boy = int(boy)\r\n",
    "        # 记录下这个boy已经被寻找\r\n",
    "        self.visit_left[boy] = True\r\n",
    "        for girl in range(self.right):\r\n",
    "            # 如果这个女生还没访问过\r\n",
    "            if not self.visit_right[girl] and self.Bipartite_Graph[boy][girl] >= 0:  # 女孩仍未匹配并且男女之间存在匹配的可能性(不可匹配的点设置为负数，取反后变正数,故正数不可取)\r\n",
    "                gap = self.label_left[boy] + self.label_right[girl] - self.Bipartite_Graph[boy][girl]  # gap也不会取到不能匹配的那条边\r\n",
    "                if gap == 0:   # 差值为0，是可行的替换。所以可以直接尝试替换。后面不行再去将这个一起减去gap。这个列表是记录希望匹配的\r\n",
    "                    self.visit_right[girl] = True\r\n",
    "                    # 女生未被匹配，或虽然已被匹配，但是已匹配对象(男生)有其他可选备胎。这里那些是否已访问的列表不需要重置，因为不改变前面的尝试匹配\r\n",
    "                    if np.isnan(self.match_right[girl]) or self.match(self.match_right[girl]):\r\n",
    "                        self.match_right[girl] = boy\r\n",
    "                        # print(self.match_right)\r\n",
    "                        # 递归匹配，匹配成功\r\n",
    "                        return 1\r\n",
    "\r\n",
    "                # 找到权值最小的差距\r\n",
    "                elif self.inc > gap:\r\n",
    "                    self.inc = gap  # 等于0的gap不会存在这，所以只要存在可能匹配的情况，gap就不会等于原来的inc\r\n",
    "\r\n",
    "        return 0\r\n",
    "\r\n",
    "    def Kuh_Munkras(self):\r\n",
    "\r\n",
    "        self.match_right = np.empty(self.right) * np.nan\r\n",
    "        # 寻找最优匹配\r\n",
    "        for man in range(self.left):\r\n",
    "            while True:\r\n",
    "                self.inc = 1000*1000  # the minimum gap\r\n",
    "                self.reset()  # 每次寻找过的路径，所有要重置一下\r\n",
    "\r\n",
    "                # 可找到可行匹配\r\n",
    "                if self.match(man):\r\n",
    "                    break\r\n",
    "                # 不能找到可行匹配\r\n",
    "                # (1)将所有在增广路中的boy方点的label全部减去最小常数\r\n",
    "                # (2)将所有在增广路中的girl方点的label全部加上最小常数\r\n",
    "                for k in range(self.left):\r\n",
    "                    if self.visit_left[k]:\r\n",
    "                        self.label_left[k] -= self.inc\r\n",
    "                for n in range(self.right):\r\n",
    "                    if self.visit_right[n]:\r\n",
    "                        self.label_right[n] += self.inc\r\n",
    "\r\n",
    "        return self.fail_boy\r\n",
    "\r\n",
    "    def calculateSum(self):\r\n",
    "        sum = 0\r\n",
    "        boys_girls = []\r\n",
    "        self.fail_boy = [i for i in range(self.left)]\r\n",
    "        for i in range(self.right_true):\r\n",
    "            if not np.isnan(self.match_right[i]):\r\n",
    "                sum += self.Bipartite_Graph[int(self.match_right[i])][i]\r\n",
    "                boy_girl = (int(self.match_right[i]), i)\r\n",
    "                boys_girls.append(boy_girl)\r\n",
    "                self.fail_boy.remove(int(self.match_right[i]))\r\n",
    "        print(\"最短路径：\", sum)\r\n",
    "\r\n",
    "        return boys_girls, self.fail_boy\r\n",
    "\r\n",
    "    def getResult(self):\r\n",
    "        return self.match_right\r\n",
    "\r\n",
    "    def reset(self):\r\n",
    "        self.visit_left = np.zeros(self.left, dtype=bool)\r\n",
    "        self.visit_right = np.zeros(self.right, dtype=bool)\r\n",
    "\r\n"
   ]
  },
  {
   "cell_type": "markdown",
   "metadata": {
    "collapsed": false
   },
   "source": [
    "#### 2.2 定义权重数值，执行主函数"
   ]
  },
  {
   "cell_type": "code",
   "execution_count": 3,
   "metadata": {
    "collapsed": false
   },
   "outputs": [
    {
     "name": "stdout",
     "output_type": "stream",
     "text": [
      "最短路径： 25.0\n",
      "匹配男女列表 [(0, 0), (2, 1), (1, 2)]\n",
      "失败男孩列表 [3]\n"
     ]
    }
   ],
   "source": [
    "# 定义权重数值\r\n",
    "def data():\r\n",
    "    graph = [[8,6,-1,-1],\r\n",
    "            [-1,3,9,-1],\r\n",
    "            [9,8,-1,-1],\r\n",
    "            [-1,-1,2,-1]]\r\n",
    "    #print(graph)\r\n",
    "    km = KM_Algorithm_4(np.array(graph))\r\n",
    "\r\n",
    "    km.Kuh_Munkras()  # 匹配\r\n",
    "\r\n",
    "    boys_girls, fail_boys = km.calculateSum()  # 匹配结果元组,以及失败的男孩们\r\n",
    "\r\n",
    "    print(\"匹配男女列表\", boys_girls)\r\n",
    "    print(\"失败男孩列表\", fail_boys)\r\n",
    "\r\n",
    "\r\n",
    "if __name__ == '__main__':\r\n",
    "    data()"
   ]
  },
  {
   "cell_type": "markdown",
   "metadata": {
    "collapsed": false
   },
   "source": [
    "### 小结\n",
    "> - 以上是作者平时学习做的项目笔记，不同见解欢迎各位大佬指正\n",
    "> - 奥利给\n",
    "> - 如若存在问题，可在评论区留言，作者会不时为大家讲解\n",
    "> - 作者aistudio主页链接，欢迎各位互粉、提问：[aistudio](https://aistudio.baidu.com/aistudio/personalcenter/thirdview/539945)"
   ]
  }
 ],
 "metadata": {
  "kernelspec": {
   "display_name": "PaddlePaddle 2.1.0 (Python 3.5)",
   "language": "python",
   "name": "py35-paddle1.2.0"
  },
  "language_info": {
   "codemirror_mode": {
    "name": "ipython",
    "version": 3
   },
   "file_extension": ".py",
   "mimetype": "text/x-python",
   "name": "python",
   "nbconvert_exporter": "python",
   "pygments_lexer": "ipython3",
   "version": "3.7.4"
  }
 },
 "nbformat": 4,
 "nbformat_minor": 1
}
